{
 "cells": [
  {
   "cell_type": "code",
   "execution_count": 7,
   "id": "cf7c6a46-82d4-46d7-b170-4efbfd6e8cf1",
   "metadata": {},
   "outputs": [],
   "source": [
    "from fastapi import FastAPI\n",
    "import os\n",
    "\n",
    "app = FastAPI()\n",
    "\n",
    "@app.get(\"/\")\n",
    "async def root():\n",
    "    return {\"message\": \"ZenBot test app is live!\"}\n",
    "\n",
    "@app.get(\"/secret\")\n",
    "async def get_secret():\n",
    "    value = os.getenv(\"TEST_SECRET\", \"Not Set\")\n",
    "    return {\"TEST_SECRET\": value}\n"
   ]
  },
  {
   "cell_type": "code",
   "execution_count": 6,
   "id": "33267899-2bd6-4bec-b980-cd24363e012a",
   "metadata": {},
   "outputs": [
    {
     "name": "stdout",
     "output_type": "stream",
     "text": [
      "Hello ZenBot!\n"
     ]
    }
   ],
   "source": [
    "print(\"Hello ZenBot!\")"
   ]
  },
  {
   "cell_type": "code",
   "execution_count": 8,
   "id": "74a2ddf5-9e41-4147-894b-f7f44e776380",
   "metadata": {},
   "outputs": [
    {
     "name": "stderr",
     "output_type": "stream",
     "text": [
      "[NbConvertApp] Converting notebook main.ipynb to script\n",
      "[NbConvertApp] Writing 395 bytes to main.py\n"
     ]
    }
   ],
   "source": [
    "!jupyter nbconvert --to script main.ipynb\n"
   ]
  }
 ],
 "metadata": {
  "kernelspec": {
   "display_name": "Python 3 (ipykernel)",
   "language": "python",
   "name": "python3"
  },
  "language_info": {
   "codemirror_mode": {
    "name": "ipython",
    "version": 3
   },
   "file_extension": ".py",
   "mimetype": "text/x-python",
   "name": "python",
   "nbconvert_exporter": "python",
   "pygments_lexer": "ipython3",
   "version": "3.12.4"
  }
 },
 "nbformat": 4,
 "nbformat_minor": 5
}
